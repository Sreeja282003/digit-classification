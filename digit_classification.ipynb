{
  "nbformat": 4,
  "nbformat_minor": 0,
  "metadata": {
    "colab": {
      "provenance": []
    },
    "kernelspec": {
      "name": "python3",
      "display_name": "Python 3"
    },
    "language_info": {
      "name": "python"
    }
  },
  "cells": [
    {
      "cell_type": "code",
      "execution_count": 2,
      "metadata": {
        "colab": {
          "base_uri": "https://localhost:8080/"
        },
        "id": "IfTIeRaW16OM",
        "outputId": "a7cc1d9b-756a-433a-8a87-1d3a9e479cbf"
      },
      "outputs": [
        {
          "output_type": "stream",
          "name": "stdout",
          "text": [
            "Epoch 1/10\n",
            "469/469 [==============================] - 153s 322ms/step - loss: 0.2483 - accuracy: 0.9237 - val_loss: 0.0532 - val_accuracy: 0.9828\n",
            "Epoch 2/10\n",
            "469/469 [==============================] - 149s 317ms/step - loss: 0.0859 - accuracy: 0.9745 - val_loss: 0.0399 - val_accuracy: 0.9874\n",
            "Epoch 3/10\n",
            "469/469 [==============================] - 154s 328ms/step - loss: 0.0666 - accuracy: 0.9801 - val_loss: 0.0357 - val_accuracy: 0.9879\n",
            "Epoch 4/10\n",
            "469/469 [==============================] - 151s 321ms/step - loss: 0.0543 - accuracy: 0.9839 - val_loss: 0.0294 - val_accuracy: 0.9895\n",
            "Epoch 5/10\n",
            "469/469 [==============================] - 146s 311ms/step - loss: 0.0467 - accuracy: 0.9858 - val_loss: 0.0295 - val_accuracy: 0.9905\n",
            "Epoch 6/10\n",
            "469/469 [==============================] - 151s 321ms/step - loss: 0.0404 - accuracy: 0.9878 - val_loss: 0.0306 - val_accuracy: 0.9909\n",
            "Epoch 7/10\n",
            "469/469 [==============================] - 150s 321ms/step - loss: 0.0374 - accuracy: 0.9884 - val_loss: 0.0264 - val_accuracy: 0.9921\n",
            "Epoch 8/10\n",
            "469/469 [==============================] - 146s 312ms/step - loss: 0.0322 - accuracy: 0.9894 - val_loss: 0.0273 - val_accuracy: 0.9914\n",
            "Epoch 9/10\n",
            "469/469 [==============================] - 146s 311ms/step - loss: 0.0296 - accuracy: 0.9905 - val_loss: 0.0262 - val_accuracy: 0.9918\n",
            "Epoch 10/10\n",
            "469/469 [==============================] - 152s 324ms/step - loss: 0.0269 - accuracy: 0.9915 - val_loss: 0.0285 - val_accuracy: 0.9910\n",
            "Test loss: 0.028483733534812927\n",
            "Test accuracy: 0.9909999966621399\n"
          ]
        }
      ],
      "source": [
        "import numpy as np\n",
        "import matplotlib.pyplot as plt\n",
        "from keras.datasets import mnist\n",
        "from keras.models import Sequential\n",
        "from keras.layers import Dense, Dropout, Flatten\n",
        "from keras.layers import Conv2D, MaxPooling2D\n",
        "from keras.utils import to_categorical\n",
        "from sklearn.model_selection import train_test_split\n",
        "import cv2\n",
        "\n",
        "# Load MNIST dataset\n",
        "(X_train, y_train), (X_test, y_test) = mnist.load_data()\n",
        "\n",
        "# Preprocess the data\n",
        "X_train = X_train.reshape(X_train.shape[0], 28, 28, 1).astype('float32') / 255\n",
        "X_test = X_test.reshape(X_test.shape[0], 28, 28, 1).astype('float32') / 255\n",
        "y_train = to_categorical(y_train, 10)\n",
        "y_test = to_categorical(y_test, 10)\n",
        "\n",
        "# Define the model\n",
        "model = Sequential()\n",
        "model.add(Conv2D(32, kernel_size=(3, 3), activation='relu', input_shape=(28, 28, 1)))\n",
        "model.add(Conv2D(64, (3, 3), activation='relu'))\n",
        "model.add(MaxPooling2D(pool_size=(2, 2)))\n",
        "model.add(Dropout(0.25))\n",
        "model.add(Flatten())\n",
        "model.add(Dense(128, activation='relu'))\n",
        "model.add(Dropout(0.5))\n",
        "model.add(Dense(10, activation='softmax'))\n",
        "\n",
        "# Compile the model\n",
        "model.compile(loss='categorical_crossentropy', optimizer='adam', metrics=['accuracy'])\n",
        "\n",
        "# Train the model\n",
        "model.fit(X_train, y_train, batch_size=128, epochs=10, verbose=1, validation_data=(X_test, y_test))\n",
        "\n",
        "# Evaluate the model\n",
        "score = model.evaluate(X_test, y_test, verbose=0)\n",
        "print('Test loss:', score[0])\n",
        "print('Test accuracy:', score[1])"
      ]
    }
  ]
}